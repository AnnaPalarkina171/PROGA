{
 "cells": [
  {
   "cell_type": "code",
   "execution_count": null,
   "metadata": {
    "collapsed": true
   },
   "outputs": [],
   "source": [
    "from collections import Counter\n",
    "top_plain = []\n",
    "top_lemmatized = []\n",
    "\n",
    "#with open('corpus\\plain_texts.txt', 'r', encoding='utf-8'):\n",
    "    #text = f.read()\n",
    "    #c = Counter(text.split())\n",
    "    #top_plain = dict(c)\n",
    "#with open ('corpus\\lemmatized_texts.txt', 'r', encoding='utf-8') as f:\n",
    "    #text = f.read()\n",
    "    #c = Counter(text.split())\n",
    "    #top_lemmatized = dict(c)\n",
    "from collections import Counter\n",
    "\n",
    "text = 'мама мама мыла раму раму раму и потом пошла кушать кушать кушать кушать кушать '\n",
    "c = Counter(text.split())\n",
    "c = dict(c)\n",
    "x = [v for k,v in c.items()]\n",
    "print(sorted(x)[-3:])\n",
    "\n",
    "\n"
   ]
  }
 ],
 "metadata": {
  "kernelspec": {
   "display_name": "Python 3",
   "language": "python",
   "name": "python3"
  },
  "language_info": {
   "codemirror_mode": {
    "name": "ipython",
    "version": 3
   },
   "file_extension": ".py",
   "mimetype": "text/x-python",
   "name": "python",
   "nbconvert_exporter": "python",
   "pygments_lexer": "ipython3",
   "version": "3.6.3"
  }
 },
 "nbformat": 4,
 "nbformat_minor": 2
}
