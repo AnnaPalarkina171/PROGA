{
 "cells": [
  {
   "cell_type": "code",
   "execution_count": 17,
   "metadata": {},
   "outputs": [
    {
     "name": "stdout",
     "output_type": "stream",
     "text": [
      "['мы', ' ', 'создавать', ' ', 'сервис', ' ', 'который', ' ', 'соединять', ' ', 'человек', ' ', 'помогать', ' ', 'легко', ' ', 'общаться', ' ', 'с', ' ', 'бизнес', ' ', 'и', ' ', 'решать', ' ', 'повседневный', ' ', 'вопрос', ' ', 'рад', ' ', 'поделиться', ' ', 'новый', ' ', 'рекорд', ' ', 'мы', ' ', 'достигать', ' ', 'отметка', ' ', 'в', '   ', 'сообщение', ' ', 'в', ' ', 'сутки', '\\n']\n",
      "\n",
      "\n",
      "['обновление', ' ', 'о', ' ', 'который', ' ', 'вы', ' ', 'так', ' ', 'мечтать', ' ', 'встречать', ' ', 'темный', ' ', 'тема', ' ', 'вконтакте', ' ', 'для', ' ', 'она', ' ', 'не', ' ', 'только', ' ', 'стильный', ' ', 'но', ' ', 'и', ' ', 'максимально', ' ', 'комфортный', ' ', 'даже', ' ', 'при', ' ', 'общение', ' ', 'ночь', ' ', 'с', ' ', 'новый', ' ', 'оформление', ' ', 'яркий', ' ', 'свет', ' ', 'не', ' ', 'быть', ' ', 'слеплять', ' ', 'глаз', ' ', 'включать', ' ', 'темный', ' ', 'тема', ' ', 'один', ' ', 'касание', ' ', 'в', ' ', 'настройка', ' ', 'приложение', '\\n']\n",
      "\n",
      "\n",
      "['с', ' ', 'помощь', ' ', 'прямой', ' ', 'трансляция', ' ', 'вы', ' ', 'мочь', ' ', 'общаться', ' ', 'с', ' ', 'друг', ' ', 'или', ' ', 'поклонник', ' ', 'и', ' ', 'быстро', ' ', 'делиться', ' ', 'то', ' ', 'что', ' ', 'вы', ' ', 'окружать', ' ', 'мы', ' ', 'добавлять', ' ', 'новый', ' ', 'возможность', ' ', 'чтобы', ' ', 'делать', ' ', 'эфир', ' ', 'еще', ' ', 'более', ' ', 'увлекательный', ' ', 'рассказывать', ' ', 'зритель', ' ', 'о', ' ', 'себя', ' ', 'и', ' ', 'свой', ' ', 'увлечение', ' ', 'с', ' ', 'помощь', ' ', 'ссылка', ' ', 'в', ' ', 'прямой', ' ', 'трансляция', ' ', 'мгновенно', ' ', 'делиться', ' ', 'запись', ' ', 'проводить', ' ', 'опрос', ' ', 'прикреплять', ' ', 'товар', ' ', 'и', ' ', 'ссылка', ' ', 'на', ' ', 'интересный', ' ', 'профиль', ' ', 'или', ' ', 'сообщество', '\\n']\n",
      "\n",
      "\n",
      "[52, 80, 110]\n"
     ]
    }
   ],
   "source": [
    "import urllib.request\n",
    "import json\n",
    "from datetime import datetime\n",
    "import sqlite3\n",
    "import os\n",
    "import re\n",
    "from pymystem3 import Mystem\n",
    "mystem = Mystem()\n",
    "\n",
    "\n",
    "req = urllib.request.Request('https://api.vk.com/method/wall.get?owner_id=-22822305&count=3&v=5.92&access_token=0e6d069c3d7d800cfe84623bd7c515c96711de5a25f5818006e793a559169b85375a050d13ec48f7a3caf') \n",
    "response = urllib.request.urlopen(req)\n",
    "result = response.read().decode('utf-8')\n",
    "data = json.loads(result) \n",
    "text = data['response']['items']\n",
    "\n",
    "post_text = [x['text'] for x in text]             #ТЕКСТ ПОСТА\n",
    "post_id = [x['id'] for x in text]                 #ID ПОСТА \n",
    "post_year = []                                    #ГОД ПОСТА\n",
    "post_month = []                                   #МЕСЯЦ ПОСТА  \n",
    "post_lemmatized = []                              #ЛЕММАТИЗИРОВАННЫЕ ТЕКСТЫ\n",
    "post_len = []                                     #ДЛИНА ПОСТА В СЛОВАХ\n",
    "for x in text:\n",
    "    time = x['date']\n",
    "    utc = datetime.fromtimestamp(time)\n",
    "    post_year.append(str(utc).split('-')[0])\n",
    "    post_month.append(str(utc).split('-')[1]) \n",
    "for x in text:\n",
    "    txt = x['text']\n",
    "    txt = re.sub(r'\\n',r' ', txt)\n",
    "    txt = re.sub(r'[^а-яА-ЯёЁ ]','',txt)\n",
    "    txt = re.sub(r'   ', r' ', txt)\n",
    "    text_lem = [text for text in mystem.lemmatize(txt)]\n",
    "    post_lemmatized.append(''.join(text_lem))\n",
    "    post_len.append(len(text_lem))\n",
    "\n",
    "#СТРОИМ БАЗУ ДАННЫХ\n",
    "conn = sqlite3.connect('posts.db')\n",
    "c = conn.cursor()\n",
    "c.execute(\"CREATE TABLE IF NOT EXISTS posts(id, text, lemmas, len, year, month)\")\n",
    "for i in range(len(post_id)):\n",
    "    lst = []\n",
    "    lst.append(post_id[i])\n",
    "    lst.append(post_text[i])\n",
    "    lst.append(post_lemmatized[i])\n",
    "    lst.append(post_len[i])\n",
    "    lst.append(post_year[i])\n",
    "    lst.append(post_month[i])\n",
    "    c.execute('INSERT INTO posts VALUES (?, ?, ?, ?, ?, ?)', lst )\n",
    "    conn.commit()\n",
    "#ПОСТРОИЛИ\n",
    "\n",
    "    \n",
    "\n",
    "\n"
   ]
  },
  {
   "cell_type": "code",
   "execution_count": null,
   "metadata": {
    "collapsed": true
   },
   "outputs": [],
   "source": []
  }
 ],
 "metadata": {
  "kernelspec": {
   "display_name": "Python 3",
   "language": "python",
   "name": "python3"
  },
  "language_info": {
   "codemirror_mode": {
    "name": "ipython",
    "version": 3
   },
   "file_extension": ".py",
   "mimetype": "text/x-python",
   "name": "python",
   "nbconvert_exporter": "python",
   "pygments_lexer": "ipython3",
   "version": "3.6.3"
  }
 },
 "nbformat": 4,
 "nbformat_minor": 2
}
