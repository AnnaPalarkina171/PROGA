{
 "cells": [
  {
   "cell_type": "code",
   "execution_count": 28,
   "metadata": {},
   "outputs": [
    {
     "name": "stdout",
     "output_type": "stream",
     "text": [
      "['female', 'male']\n"
     ]
    }
   ],
   "source": [
    "import urllib.request\n",
    "import json\n",
    "from datetime import datetime\n",
    "import sqlite3\n",
    "import os\n",
    "import re\n",
    "from pymystem3 import Mystem\n",
    "mystem = Mystem()\n",
    "\n",
    "token = '3b4b6f8ab5c3783150074a9237efc96dc1837673ea2704459cad3bd2ece7c77a29019acc81643198d996e'\n",
    "group = 'team'\n",
    "count = '20'\n",
    "owner_id_group = '-22822305'\n",
    "method_wall = 'wall.get?'\n",
    "method_comments = 'wall.getComments?'\n",
    "\n",
    "def request(method, post_id, owner_id ):\n",
    "    req = urllib.request.Request('https://api.vk.com/method/%sowner_id=%s&%s&count=%s&v=5.92&access_token=%s' %(method, owner_id, post_id, count, token))\n",
    "    response = urllib.request.urlopen(req)\n",
    "    result = response.read().decode('utf-8')\n",
    "    data = json.loads(result)\n",
    "    return data\n",
    "\n",
    "from_id = [150471191,34636328]\n",
    "cities = []\n",
    "\n",
    "for id_com in from_id:\n",
    "    req = urllib.request.Request('https://api.vk.com/method/users.get?v=5.92&access_token=%s&user_ids=%s&fields=city'  % (token, id_com))\n",
    "    response = urllib.request.urlopen(req) \n",
    "    result = response.read().decode('utf-8')\n",
    "    data = json.loads(result) \n",
    "    if 'city' not in (data['response'][0]):\n",
    "        cities.append('none')\n",
    "    city = data['response'][0]['city']\n",
    "    cities.append(city['title'])\n",
    "\n",
    "sex_com = []\n",
    "for id_com in from_id:\n",
    "    req = urllib.request.Request('https://api.vk.com/method/users.get?v=5.92&access_token=%s&user_ids=%s&fields=sex'  % (token, id_com))\n",
    "    response = urllib.request.urlopen(req) \n",
    "    result = response.read().decode('utf-8')\n",
    "    data = json.loads(result)    \n",
    "    if 'sex' not in (data['response'][0]):\n",
    "        sex_com.append('none')\n",
    "    sex = data['response'][0]['sex']\n",
    "    if sex == 1:\n",
    "        sex_com.append('female')\n",
    "    if sex == 2:\n",
    "        sex_com.append('male')\n",
    "        \n",
    "\n",
    "\n"
   ]
  }
 ],
 "metadata": {
  "kernelspec": {
   "display_name": "Python 3",
   "language": "python",
   "name": "python3"
  },
  "language_info": {
   "codemirror_mode": {
    "name": "ipython",
    "version": 3
   },
   "file_extension": ".py",
   "mimetype": "text/x-python",
   "name": "python",
   "nbconvert_exporter": "python",
   "pygments_lexer": "ipython3",
   "version": "3.6.3"
  }
 },
 "nbformat": 4,
 "nbformat_minor": 2
}
