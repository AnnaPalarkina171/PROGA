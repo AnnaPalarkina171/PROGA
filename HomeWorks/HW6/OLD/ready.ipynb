{
 "cells": [
  {
   "cell_type": "code",
   "execution_count": 53,
   "metadata": {},
   "outputs": [
    {
     "name": "stdout",
     "output_type": "stream",
     "text": [
      "{22: 17.0, 24: 5.7999999999999998, 33: 8.1052631578947363, 37: 15.6, 48: 6.333333333333333, 49: 8.0, 51: 9.8333333333333339, 57: 6.3499999999999996, 59: 42.200000000000003, 64: 17.0625, 107: 12.684210526315789, 118: 18.666666666666668, 122: 7.4285714285714288, 139: 3.3333333333333335, 140: 6.4615384615384617}\n"
     ]
    }
   ],
   "source": [
    "import urllib.request\n",
    "import json\n",
    "import re\n",
    "import time\n",
    "import numpy\n",
    "from collections import Counter\n",
    "from collections import OrderedDict\n",
    "time.sleep(50)\n",
    "\n",
    "\n",
    "token = '0e6d069c3d7d800cfe84623bd7c515c96711de5a25f5818006e793a559169b85375a050d13ec48f7a3caf'\n",
    "group = 'yandex'\n",
    "count = '20'\n",
    "owner_id = '-11283947'\n",
    "method_wall = 'wall.get?'\n",
    "method_comments = 'wall.getComments?'\n",
    "\n",
    "\n",
    "def request(method, post_id):\n",
    "    req = urllib.request.Request('https://api.vk.com/method/%sowner_id=%s&%s&count=%s&v=5.92&access_token=%s' %(method, owner_id, post_id, count, token))\n",
    "    response = urllib.request.urlopen(req)\n",
    "    result = response.read().decode('utf-8')\n",
    "    data = json.loads(result)\n",
    "    return data\n",
    "\n",
    "\n",
    "def posts():\n",
    "    len_posts = []\n",
    "    posts_id = []\n",
    "    method = method_wall\n",
    "    post_id = ''\n",
    "    data = request(method,post_id)\n",
    "    if 'response' in data:\n",
    "        items = data['response']['items']\n",
    "        for item in items:\n",
    "            for k,v in item.items():\n",
    "                if k == 'id':\n",
    "                    posts_id.append(v)\n",
    "                if k == 'text':\n",
    "                    text_post = v                                             #ТЕКСТ ПОСТА\n",
    "                    text_post = re.sub(' — ',' ',text_post)\n",
    "                    len_post = len(text_post.split())                         #ДЛИНА ПОСТА\n",
    "                    len_posts.append(len_post)\n",
    "    return len_posts, posts_id\n",
    "   \n",
    "    \n",
    "def comments():\n",
    "    average_len_comments = []\n",
    "    method = method_comments\n",
    "    for post_id in posts()[1]:\n",
    "        post_id = 'post_id=' + str(post_id)\n",
    "        data = request(method,post_id)\n",
    "        if 'response' in data:\n",
    "            len_comments =[]\n",
    "            items = data['response']['items']\n",
    "            for item in items:\n",
    "                for k,v in item.items():\n",
    "                    if k == 'text':\n",
    "                        text_comment = v                                     #ТЕКСТ КОММЕНТА\n",
    "                        if len(text_comment) != 0:                           #если 0, то это - смайлик песня, гифка, фотка...\n",
    "                            len_comment = len(text_comment.split())          #ДЛИНА КОММЕНТА\n",
    "                            len_comments.append(len_comment)\n",
    "            av_len_comment = numpy.mean(len_comments)\n",
    "            average_len_comments.append(av_len_comment) \n",
    "    return average_len_comments\n",
    "\n",
    "\n",
    "def post_VS_comments(len_posts, average_len_comments):\n",
    "    d = dict(zip(len_posts, average_len_comments))\n",
    "    d = OrderedDict(sorted(d.items(), key=lambda t: t[0]))\n",
    "    d = dict(d)                        #Словарь, где ключ - длина поста, а значение - средняя длина его комментариев\n",
    "    print(d)\n",
    "    \n",
    "\n",
    "    \n",
    "                \n",
    "          \n",
    "\n",
    "len_posts = posts()[0]\n",
    "average_len_comments = comments()\n",
    "post_VS_comments(len_posts, average_len_comments)\n",
    "\n",
    "\n",
    "    \n",
    "    "
   ]
  },
  {
   "cell_type": "code",
   "execution_count": null,
   "metadata": {
    "collapsed": true
   },
   "outputs": [],
   "source": []
  }
 ],
 "metadata": {
  "kernelspec": {
   "display_name": "Python 3",
   "language": "python",
   "name": "python3"
  },
  "language_info": {
   "codemirror_mode": {
    "name": "ipython",
    "version": 3
   },
   "file_extension": ".py",
   "mimetype": "text/x-python",
   "name": "python",
   "nbconvert_exporter": "python",
   "pygments_lexer": "ipython3",
   "version": "3.6.3"
  }
 },
 "nbformat": 4,
 "nbformat_minor": 2
}
