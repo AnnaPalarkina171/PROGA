{
 "cells": [
  {
   "cell_type": "code",
   "execution_count": 98,
   "metadata": {},
   "outputs": [
    {
     "ename": "FileNotFoundError",
     "evalue": "[Errno 2] No such file or directory: 'corpus\\\\plain_texts.txt'",
     "output_type": "error",
     "traceback": [
      "\u001b[1;31m---------------------------------------------------------------------------\u001b[0m",
      "\u001b[1;31mFileNotFoundError\u001b[0m                         Traceback (most recent call last)",
      "\u001b[1;32m<ipython-input-98-88bceb84bbe9>\u001b[0m in \u001b[0;36m<module>\u001b[1;34m()\u001b[0m\n\u001b[0;32m     53\u001b[0m                     \u001b[0mtext_for_corpus\u001b[0m \u001b[1;33m=\u001b[0m \u001b[0mtext_post\u001b[0m\u001b[1;33m\u001b[0m\u001b[0m\n\u001b[0;32m     54\u001b[0m                     \u001b[0mwrite\u001b[0m\u001b[1;33m(\u001b[0m\u001b[0mtext_for_corpus\u001b[0m\u001b[1;33m)\u001b[0m\u001b[1;33m\u001b[0m\u001b[0m\n\u001b[1;32m---> 55\u001b[1;33m \u001b[0mposts\u001b[0m\u001b[1;33m(\u001b[0m\u001b[1;33m)\u001b[0m\u001b[1;33m\u001b[0m\u001b[0m\n\u001b[0m\u001b[0;32m     56\u001b[0m \u001b[1;33m\u001b[0m\u001b[0m\n\u001b[0;32m     57\u001b[0m \u001b[1;33m\u001b[0m\u001b[0m\n",
      "\u001b[1;32m<ipython-input-98-88bceb84bbe9>\u001b[0m in \u001b[0;36mposts\u001b[1;34m()\u001b[0m\n\u001b[0;32m     52\u001b[0m \u001b[1;33m\u001b[0m\u001b[0m\n\u001b[0;32m     53\u001b[0m                     \u001b[0mtext_for_corpus\u001b[0m \u001b[1;33m=\u001b[0m \u001b[0mtext_post\u001b[0m\u001b[1;33m\u001b[0m\u001b[0m\n\u001b[1;32m---> 54\u001b[1;33m                     \u001b[0mwrite\u001b[0m\u001b[1;33m(\u001b[0m\u001b[0mtext_for_corpus\u001b[0m\u001b[1;33m)\u001b[0m\u001b[1;33m\u001b[0m\u001b[0m\n\u001b[0m\u001b[0;32m     55\u001b[0m \u001b[0mposts\u001b[0m\u001b[1;33m(\u001b[0m\u001b[1;33m)\u001b[0m\u001b[1;33m\u001b[0m\u001b[0m\n\u001b[0;32m     56\u001b[0m \u001b[1;33m\u001b[0m\u001b[0m\n",
      "\u001b[1;32m<ipython-input-98-88bceb84bbe9>\u001b[0m in \u001b[0;36mwrite\u001b[1;34m(text_for_corpus)\u001b[0m\n\u001b[0;32m     24\u001b[0m \u001b[1;33m\u001b[0m\u001b[0m\n\u001b[0;32m     25\u001b[0m \u001b[1;32mdef\u001b[0m \u001b[0mwrite\u001b[0m\u001b[1;33m(\u001b[0m\u001b[0mtext_for_corpus\u001b[0m\u001b[1;33m)\u001b[0m\u001b[1;33m:\u001b[0m\u001b[1;33m\u001b[0m\u001b[0m\n\u001b[1;32m---> 26\u001b[1;33m     \u001b[1;32mwith\u001b[0m \u001b[0mopen\u001b[0m\u001b[1;33m(\u001b[0m\u001b[1;34m'corpus\\plain_texts.txt'\u001b[0m\u001b[1;33m,\u001b[0m \u001b[1;34m'a'\u001b[0m\u001b[1;33m,\u001b[0m \u001b[0mencoding\u001b[0m\u001b[1;33m=\u001b[0m\u001b[1;34m'utf-8'\u001b[0m\u001b[1;33m)\u001b[0m \u001b[1;32mas\u001b[0m \u001b[0mf\u001b[0m\u001b[1;33m:\u001b[0m\u001b[1;33m\u001b[0m\u001b[0m\n\u001b[0m\u001b[0;32m     27\u001b[0m         \u001b[0mf\u001b[0m\u001b[1;33m.\u001b[0m\u001b[0mwrite\u001b[0m\u001b[1;33m(\u001b[0m\u001b[0mtext_for_corpus\u001b[0m\u001b[1;33m)\u001b[0m\u001b[1;33m\u001b[0m\u001b[0m\n\u001b[0;32m     28\u001b[0m         \u001b[0mf\u001b[0m\u001b[1;33m.\u001b[0m\u001b[0mwrite\u001b[0m\u001b[1;33m(\u001b[0m\u001b[1;34m' '\u001b[0m\u001b[1;33m)\u001b[0m                                   \u001b[1;31m#нужно чистить\u001b[0m\u001b[1;33m\u001b[0m\u001b[0m\n",
      "\u001b[1;31mFileNotFoundError\u001b[0m: [Errno 2] No such file or directory: 'corpus\\\\plain_texts.txt'"
     ]
    }
   ],
   "source": [
    "import urllib.request\n",
    "import json\n",
    "import re\n",
    "import time\n",
    "import numpy\n",
    "import os\n",
    "from collections import Counter\n",
    "from collections import OrderedDict\n",
    "time.sleep(10)\n",
    "\n",
    "token = '0e6d069c3d7d800cfe84623bd7c515c96711de5a25f5818006e793a559169b85375a050d13ec48f7a3caf'\n",
    "group = 'team'\n",
    "count = '10'\n",
    "owner_id = '-22822305'\n",
    "method_wall = 'wall.get?'\n",
    "method_comments = 'wall.getComments?'\n",
    "\n",
    "def request(method, post_id):\n",
    "    req = urllib.request.Request('https://api.vk.com/method/%sowner_id=%s&%s&count=%s&v=5.92&access_token=%s' %(method, owner_id, post_id, count, token))\n",
    "    response = urllib.request.urlopen(req)\n",
    "    result = response.read().decode('utf-8')\n",
    "    data = json.loads(result)\n",
    "    return data\n",
    "\n",
    "def write(text_for_corpus):\n",
    "    with open('corpus\\plain_texts.txt', 'a', encoding='utf-8') as f:\n",
    "        f.write(text_for_corpus)\n",
    "        f.write(' ')                                   #нужно чистить\n",
    "    \n",
    "#def lemmatizer():\n",
    "#    plain = 'C:\\Users\\User\\Desktop\\PROGA\\HomeWorks\\HW6\\corpus\\plain_texts.txt'\n",
    "#    mystem = 'C:\\Users\\User\\Desktop\\PROGA\\HomeWorks\\HW6\\corpus\\mystem_texts.xml'\n",
    "#    os.system(r'C:\\\\Users\\\\User\\\\Desktop\\\\mystem.exe -cdgin --format xml --eng-gr {} {}'.format(plain,mystem))\n",
    "#    with open('C:\\Users\\User\\Desktop\\PROGA\\HomeWorks\\HW6\\corpus\\mystem_texts.xml', 'r', encoding='utf-8') as f:\n",
    "#        text = f.read()\n",
    "#        list_words = re.findall(r'lex=\"(.*?)\"', text)\n",
    "#        with open ('corpus\\lemmatized_texts.txt', '', encoding='utf-8') as f:\n",
    "#            f.write(' '.join(txt))\n",
    "    \n",
    "    \n",
    "def posts():\n",
    "    method = method_wall\n",
    "    post_id = ''\n",
    "    data = request(method,post_id)\n",
    "    if 'response' in data:\n",
    "        items = data['response']['items']\n",
    "        for item in items:\n",
    "            for k,v in item.items():\n",
    "                if k == 'text':\n",
    "                    text_post = v                                             #ТЕКСТ ПОСТА\n",
    "                    \n",
    "                    \n",
    "                    text_for_corpus = text_post\n",
    "                    write(text_for_corpus)\n",
    "posts()\n",
    "    \n",
    "    \n",
    "    \n",
    "    \n",
    "    \n",
    "    \n",
    "    \n",
    "    \n",
    "    \n",
    "    \n",
    "    \n",
    "    \n",
    "    \n"
   ]
  }
 ],
 "metadata": {
  "kernelspec": {
   "display_name": "Python 3",
   "language": "python",
   "name": "python3"
  },
  "language_info": {
   "codemirror_mode": {
    "name": "ipython",
    "version": 3
   },
   "file_extension": ".py",
   "mimetype": "text/x-python",
   "name": "python",
   "nbconvert_exporter": "python",
   "pygments_lexer": "ipython3",
   "version": "3.6.3"
  }
 },
 "nbformat": 4,
 "nbformat_minor": 2
}
