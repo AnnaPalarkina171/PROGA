{
 "cells": [
  {
   "cell_type": "code",
   "execution_count": 9,
   "metadata": {
    "collapsed": true
   },
   "outputs": [],
   "source": [
    "import requests\n",
    "import json\n",
    "import sqlite3\n",
    "\n",
    "\n",
    "req = urllib.request.Request('https://api.vk.com/method/wall.get?owner_id=-22822305&count=3&v=5.92&access_token=0e6d069c3d7d800cfe84623bd7c515c96711de5a25f5818006e793a559169b85375a050d13ec48f7a3caf' \n",
    "response = urllib.request.urlopen(req)\n",
    "result = response.read().decode('utf-8')\n",
    "data = json.loads(result) \n",
    "text = data['response']['items'][1]['text']\n",
    "\n"
   ]
  }
 ],
 "metadata": {
  "kernelspec": {
   "display_name": "Python 3",
   "language": "python",
   "name": "python3"
  },
  "language_info": {
   "codemirror_mode": {
    "name": "ipython",
    "version": 3
   },
   "file_extension": ".py",
   "mimetype": "text/x-python",
   "name": "python",
   "nbconvert_exporter": "python",
   "pygments_lexer": "ipython3",
   "version": "3.6.3"
  }
 },
 "nbformat": 4,
 "nbformat_minor": 2
}
