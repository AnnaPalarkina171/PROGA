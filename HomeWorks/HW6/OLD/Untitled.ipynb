{
 "cells": [
  {
   "cell_type": "code",
   "execution_count": 30,
   "metadata": {},
   "outputs": [
    {
     "data": {
      "text/plain": [
       "6000"
      ]
     },
     "execution_count": 30,
     "metadata": {},
     "output_type": "execute_result"
    }
   ],
   "source": [
    "import urllib.request\n",
    "import json\n",
    "\n",
    "users = set()\n",
    "offsets = [0, 1000, 2000, 3000, 4000, 5000]\n",
    "token = '8423c2448423c2448423c244d08441f2a1884238423c244dee1644d9e90529494134bf8'\n",
    "version = '5.92'\n",
    "group = 'yandex'\n",
    "users = []\n",
    "\n",
    "for off in offsets:\n",
    "    \n",
    "    response = urllib.request.urlopen(req)\n",
    "    result = response.read().decode('utf-8')\n",
    "    data = json.loads(result) \n",
    "    k = data['response']['items']\n",
    "    for user in set(k):\n",
    "        users.append(user)\n",
    "        \n",
    "len(users)\n",
    "\n"
   ]
  },
  {
   "cell_type": "code",
   "execution_count": null,
   "metadata": {
    "collapsed": true
   },
   "outputs": [],
   "source": []
  }
 ],
 "metadata": {
  "kernelspec": {
   "display_name": "Python 3",
   "language": "python",
   "name": "python3"
  },
  "language_info": {
   "codemirror_mode": {
    "name": "ipython",
    "version": 3
   },
   "file_extension": ".py",
   "mimetype": "text/x-python",
   "name": "python",
   "nbconvert_exporter": "python",
   "pygments_lexer": "ipython3",
   "version": "3.6.3"
  }
 },
 "nbformat": 4,
 "nbformat_minor": 2
}
