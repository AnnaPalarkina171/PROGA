{
  "nbformat": 4,
  "nbformat_minor": 0,
  "metadata": {
    "colab": {
      "name": "Untitled0.ipynb",
      "version": "0.3.2",
      "provenance": []
    },
    "kernelspec": {
      "name": "python3",
      "display_name": "Python 3"
    }
  },
  "cells": [
    {
      "cell_type": "code",
      "metadata": {
        "id": "4lRROk9h3s5B",
        "colab_type": "code",
        "colab": {}
      },
      "source": [
        "!pip install ufal.udpipe"
      ],
      "execution_count": 0,
      "outputs": []
    },
    {
      "cell_type": "code",
      "metadata": {
        "id": "D2c6MQXz3wFQ",
        "colab_type": "code",
        "colab": {}
      },
      "source": [
        "from google.colab import drive\n",
        "drive.mount('/content/gdrive')"
      ],
      "execution_count": 0,
      "outputs": []
    },
    {
      "cell_type": "code",
      "metadata": {
        "id": "DbowMu7733E6",
        "colab_type": "code",
        "colab": {}
      },
      "source": [
        "import os\n",
        "\n",
        "os.chdir(\"/content/gdrive/My Drive/КУРСАЧ/split\")"
      ],
      "execution_count": 0,
      "outputs": []
    },
    {
      "cell_type": "code",
      "metadata": {
        "id": "yFJAPjV435Oh",
        "colab_type": "code",
        "colab": {}
      },
      "source": [
        "from ufal.udpipe import Model, Pipeline\n",
        "model = Model.load('russian-syntagrus-ud-2.0-170801.udpipe') # путь к модели"
      ],
      "execution_count": 0,
      "outputs": []
    },
    {
      "cell_type": "code",
      "metadata": {
        "id": "BSXtrBAu37Yn",
        "colab_type": "code",
        "colab": {}
      },
      "source": [
        "model"
      ],
      "execution_count": 0,
      "outputs": []
    },
    {
      "cell_type": "code",
      "metadata": {
        "id": "VCH5sqji3-4I",
        "colab_type": "code",
        "colab": {
          "base_uri": "https://localhost:8080/",
          "height": 235
        },
        "outputId": "dcee52f4-0177-42b6-e0d8-77ac2535833a"
      },
      "source": [
        "from conllu import parse\n",
        "pipeline = Pipeline(model, 'tokenize', Pipeline.DEFAULT, Pipeline.DEFAULT, Pipeline.DEFAULT)\n",
        "example = \"Если б мне платили каждый раз.\"\n",
        "parsed = pipeline.process(example)\n",
        "\n",
        "my_example = str(parsed)\n",
        "sentences = parse(my_example)\n",
        "sentence = sentences[0]\n",
        "\n",
        "# первый токен в примере\n",
        "sentence[o]"
      ],
      "execution_count": 18,
      "outputs": [
        {
          "output_type": "execute_result",
          "data": {
            "text/plain": [
              "OrderedDict([('id', 3),\n",
              "             ('form', 'мне'),\n",
              "             ('lemma', 'я'),\n",
              "             ('upostag', 'PRON'),\n",
              "             ('xpostag', None),\n",
              "             ('feats',\n",
              "              OrderedDict([('Case', 'Dat'),\n",
              "                           ('Number', 'Sing'),\n",
              "                           ('Person', '1')])),\n",
              "             ('head', 4),\n",
              "             ('deprel', 'obl'),\n",
              "             ('deps', None),\n",
              "             ('misc', None)])"
            ]
          },
          "metadata": {
            "tags": []
          },
          "execution_count": 18
        }
      ]
    },
    {
      "cell_type": "code",
      "metadata": {
        "id": "oIsPyWjH51HY",
        "colab_type": "code",
        "colab": {}
      },
      "source": [
        "input_text = 'Помимо арт группы себя показать и людей посмотреть приехал российский чиновник.'\n",
        "rusclasp_result = {'text': 'Помимо арт группы себя показать и людей посмотреть приехал российский чиновник.', 'entities': [['T1', 'Span', [[0, 31]]], ['T2', 'Span', [[32, 78]]]], 'relations': []}\n",
        "\n",
        "\n",
        "\n",
        "\n",
        "\n",
        "\n"
      ],
      "execution_count": 0,
      "outputs": []
    }
  ]
}